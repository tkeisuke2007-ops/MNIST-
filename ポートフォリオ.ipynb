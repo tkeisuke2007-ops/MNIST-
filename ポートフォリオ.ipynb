{
 "cells": [
  {
   "cell_type": "markdown",
   "metadata": {},
   "source": [
    "MNIST手書き数字データセットの特徴量選択"
   ]
  },
  {
   "cell_type": "code",
   "execution_count": 19,
   "metadata": {},
   "outputs": [
    {
     "name": "stdout",
     "output_type": "stream",
     "text": [
      "訓練データから 5 枚の画像を出力します\n"
     ]
    },
    {
     "data": {
      "image/png": "[encoded data removed]",
      "text/plain": [
       "<Figure size 1200x300 with 5 Axes>"
      ]
     },
     "metadata": {},
     "output_type": "display_data"
    }
   ],
   "source": [
    "import numpy as np\n",
    "import matplotlib.pyplot as plt \n",
    "from tensorflow.keras.datasets import mnist\n",
    "\n",
    "(x_train, y_train), (_, _) = mnist.load_data()\n",
    "num_to_show = 5 #表示する画像の枚数\n",
    "plt.figure(figsize=(12, 3)) #グラフ全体のサイズ設定\n",
    "print(f\"訓練データから {num_to_show} 枚の画像を出力します\")\n",
    "for i in range(num_to_show):\n",
    "    plt.subplot(1, num_to_show, i + 1)\n",
    "    plt.imshow(x_train[i], cmap='gray')\n",
    "    plt.title(f\"Label: {y_train[i]}\")\n",
    "    plt.axis('off')\n",
    "\n",
    "plt.tight_layout() #レイアウトの調整\n",
    "plt.show() #画像を表示"
   ]
  },
  {
   "cell_type": "code",
   "execution_count": 5,
   "metadata": {
    "executionInfo": {
     "elapsed": 970,
     "status": "ok",
     "timestamp": 1738145273057,
     "user": {
      "displayName": "ちいた",
      "userId": "18348193065885775618"
     },
     "user_tz": -540
    },
    "id": "Nu3PgRfh-pkN"
   },
   "outputs": [],
   "source": [
    "import numpy as np\n",
    "from tensorflow.keras.datasets import mnist\n",
    "from tensorflow.keras.utils import to_categorical\n",
    "(x_train, y_train), (x_test, y_test) = mnist.load_data()\n",
    "sum_train = np.sum(x_train, axis=0).reshape(1,784)\n",
    "avrage_train = sum_train/60000\n",
    "num = np.where((avrage_train>3))\n",
    "avrage_train2 = avrage_train[0,num[1]]\n",
    "b=len(avrage_train2)\n",
    "x_train=x_train.reshape(60000,784)\n",
    "\n",
    "#print(x_train[1,num[1]])\n",
    "#print(len(x_train[1,num[1]]))\n",
    "\n",
    "z = np.zeros((60000,b))\n",
    "\n",
    "for i in range(60000):\n",
    "    z[i] = x_train[i,num[1]]\n",
    "len(z)\n",
    "x_train = z\n",
    "y_train=to_categorical(y_train,num_classes=10)\n",
    "\n"
   ]
  },
  {
   "cell_type": "code",
   "execution_count": 6,
   "metadata": {
    "executionInfo": {
     "elapsed": 254,
     "status": "ok",
     "timestamp": 1738145275173,
     "user": {
      "displayName": "ちいた",
      "userId": "18348193065885775618"
     },
     "user_tz": -540
    },
    "id": "TElDgSRFAswc"
   },
   "outputs": [],
   "source": [
    "import numpy as np\n",
    "\n",
    "\n",
    "x_test=x_test.reshape(10000,784)\n",
    "\n",
    "#print(x_train[1,num[1]])\n",
    "#print(len(x_train[1,num[1]]))\n",
    "\n",
    "q= np.zeros((10000,b))\n",
    "\n",
    "for i in range(10000):\n",
    "    q[i] = x_test[i,num[1]]\n",
    "len(q)\n",
    "x_test = q\n",
    "y_test=to_categorical(y_test,num_classes=10)"
   ]
  },
  {
   "cell_type": "code",
   "execution_count": 7,
   "metadata": {
    "executionInfo": {
     "elapsed": 248,
     "status": "ok",
     "timestamp": 1738145277612,
     "user": {
      "displayName": "ちいた",
      "userId": "18348193065885775618"
     },
     "user_tz": -540
    },
    "id": "ldQnthsNBn8W"
   },
   "outputs": [],
   "source": [
    "import tensorflow\n",
    "from tensorflow.keras.models import Sequential\n",
    "from tensorflow.keras.layers import Dense, Input # Inputレイヤーをインポート\n",
    "\n",
    "tensorflow.random.set_seed(seed=1)#乱数の固定\n",
    "#モデルの定義\n",
    "model=Sequential()\n",
    "model.add(Input(shape=(b,))) \n",
    "model.add(Dense(units=16, activation=\"sigmoid\"))\n",
    "model.add(Dense(units=10,activation=\"softmax\"))\n",
    "\n",
    "model.compile(\n",
    "    loss=\"categorical_crossentropy\",optimizer=\"adam\",metrics=[\"accuracy\"],\n",
    ")"
   ]
  },
  {
   "cell_type": "code",
   "execution_count": 8,
   "metadata": {
    "colab": {
     "base_uri": "https://localhost:8080/"
    },
    "executionInfo": {
     "elapsed": 7998,
     "status": "ok",
     "timestamp": 1738145287779,
     "user": {
      "displayName": "ちいた",
      "userId": "18348193065885775618"
     },
     "user_tz": -540
    },
    "id": "dR_sYUoeBrA8",
    "outputId": "9e93b589-8a3a-485a-ee8e-fdfd3fff3606"
   },
   "outputs": [
    {
     "name": "stdout",
     "output_type": "stream",
     "text": [
      "Epoch 1/10\n",
      "\u001b[1m60/60\u001b[0m \u001b[32m━━━━━━━━━━━━━━━━━━━━\u001b[0m\u001b[37m\u001b[0m \u001b[1m1s\u001b[0m 5ms/step - accuracy: 0.2828 - loss: 2.1280 - val_accuracy: 0.5002 - val_loss: 1.8132\n",
      "Epoch 2/10\n",
      "\u001b[1m60/60\u001b[0m \u001b[32m━━━━━━━━━━━━━━━━━━━━\u001b[0m\u001b[37m\u001b[0m \u001b[1m0s\u001b[0m 3ms/step - accuracy: 0.6181 - loss: 1.6282 - val_accuracy: 0.7018 - val_loss: 1.4465\n",
      "Epoch 3/10\n",
      "\u001b[1m60/60\u001b[0m \u001b[32m━━━━━━━━━━━━━━━━━━━━\u001b[0m\u001b[37m\u001b[0m \u001b[1m0s\u001b[0m 3ms/step - accuracy: 0.7302 - loss: 1.3455 - val_accuracy: 0.7730 - val_loss: 1.2242\n",
      "Epoch 4/10\n",
      "\u001b[1m60/60\u001b[0m \u001b[32m━━━━━━━━━━━━━━━━━━━━\u001b[0m\u001b[37m\u001b[0m \u001b[1m0s\u001b[0m 2ms/step - accuracy: 0.7809 - loss: 1.1565 - val_accuracy: 0.8050 - val_loss: 1.0637\n",
      "Epoch 5/10\n",
      "\u001b[1m60/60\u001b[0m \u001b[32m━━━━━━━━━━━━━━━━━━━━\u001b[0m\u001b[37m\u001b[0m \u001b[1m0s\u001b[0m 2ms/step - accuracy: 0.8093 - loss: 1.0167 - val_accuracy: 0.8222 - val_loss: 0.9425\n",
      "Epoch 6/10\n",
      "\u001b[1m60/60\u001b[0m \u001b[32m━━━━━━━━━━━━━━━━━━━━\u001b[0m\u001b[37m\u001b[0m \u001b[1m0s\u001b[0m 2ms/step - accuracy: 0.8254 - loss: 0.8932 - val_accuracy: 0.8410 - val_loss: 0.8219\n",
      "Epoch 7/10\n",
      "\u001b[1m60/60\u001b[0m \u001b[32m━━━━━━━━━━━━━━━━━━━━\u001b[0m\u001b[37m\u001b[0m \u001b[1m0s\u001b[0m 2ms/step - accuracy: 0.8414 - loss: 0.7925 - val_accuracy: 0.8553 - val_loss: 0.7440\n",
      "Epoch 8/10\n",
      "\u001b[1m60/60\u001b[0m \u001b[32m━━━━━━━━━━━━━━━━━━━━\u001b[0m\u001b[37m\u001b[0m \u001b[1m0s\u001b[0m 2ms/step - accuracy: 0.8507 - loss: 0.7223 - val_accuracy: 0.8625 - val_loss: 0.6776\n",
      "Epoch 9/10\n",
      "\u001b[1m60/60\u001b[0m \u001b[32m━━━━━━━━━━━━━━━━━━━━\u001b[0m\u001b[37m\u001b[0m \u001b[1m0s\u001b[0m 2ms/step - accuracy: 0.8559 - loss: 0.6670 - val_accuracy: 0.8588 - val_loss: 0.6416\n",
      "Epoch 10/10\n",
      "\u001b[1m60/60\u001b[0m \u001b[32m━━━━━━━━━━━━━━━━━━━━\u001b[0m\u001b[37m\u001b[0m \u001b[1m0s\u001b[0m 2ms/step - accuracy: 0.8609 - loss: 0.6238 - val_accuracy: 0.8693 - val_loss: 0.5962\n",
      "Test loss: 0.5962\n",
      "Test accuracy:0.8693\n",
      "Calculation time:3.03 sec\n"
     ]
    }
   ],
   "source": [
    "import time\n",
    "#学習開始\n",
    "start_time=time.time()\n",
    "history=model.fit(\n",
    "    x_train,y_train,batch_size=1000,epochs=10,verbose=1,\n",
    "    validation_data=(x_test,y_test),\n",
    ")\n",
    "score=model.evaluate(x_test,y_test,verbose=0)\n",
    "calculation_time=time.time()-start_time\n",
    "#結果表示\n",
    "print(f\"Test loss: {score[0]:.4f}\") #モデルの予測と実際のラベルとの誤差\n",
    "print(f\"Test accuracy:{score[1]:.4f}\") #モデルの最終的な正解率\n",
    "print(f\"Calculation time:{calculation_time:.2f} sec\") #学習にかかった合計時間"
   ]
  }
 ],
 "metadata": {
  "colab": {
   "authorship_tag": "ABX9TyMdbB4h1bSTGTRsHxr4efWx",
   "provenance": []
  },
  "kernelspec": {
   "display_name": "Python 3 (ipykernel)",
   "language": "python",
   "name": "python3"
  },
  "language_info": {
   "codemirror_mode": {
    "name": "ipython",
    "version": 3
   },
   "file_extension": ".py",
   "mimetype": "text/x-python",
   "name": "python",
   "nbconvert_exporter": "python",
   "pygments_lexer": "ipython3",
   "version": "3.12.3"
  }
 },
 "nbformat": 4,
 "nbformat_minor": 4
}
