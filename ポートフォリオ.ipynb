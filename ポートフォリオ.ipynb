{
 "cells": [
  {
   "cell_type": "markdown",
   "metadata": {
    "id": "DDzxXwDH_YUx"
   },
   "source": []
  },
  {
   "cell_type": "markdown",
   "metadata": {},
   "source": [
    "MNIST手書き数字データセットの特徴量選択"
   ]
  },
  {
   "cell_type": "code",
   "execution_count": 1,
   "metadata": {
    "executionInfo": {
     "elapsed": 970,
     "status": "ok",
     "timestamp": 1738145273057,
     "user": {
      "displayName": "ちいた",
      "userId": "18348193065885775618"
     },
     "user_tz": -540
    },
    "id": "Nu3PgRfh-pkN"
   },
   "outputs": [],
   "source": [
    "import numpy as np\n",
    "from tensorflow.keras.datasets import mnist\n",
    "from tensorflow.keras.utils import to_categorical\n",
    "(x_train, y_train), (x_test, y_test) = mnist.load_data()\n",
    "sum_train = np.sum(x_train, axis=0).reshape(1,784)\n",
    "avrage_train = sum_train/60000\n",
    "num = np.where((avrage_train>3))\n",
    "avrage_train2 = avrage_train[0,num[1]]\n",
    "b=len(avrage_train2)\n",
    "x_train=x_train.reshape(60000,784)\n",
    "\n",
    "#print(x_train[1,num[1]])\n",
    "#print(len(x_train[1,num[1]]))\n",
    "\n",
    "z = np.zeros((60000,b))\n",
    "\n",
    "for i in range(60000):\n",
    "    z[i] = x_train[i,num[1]]\n",
    "len(z)\n",
    "x_train = z\n",
    "y_train=to_categorical(y_train,num_classes=10)\n",
    "\n"
   ]
  },
  {
   "cell_type": "code",
   "execution_count": 3,
   "metadata": {
    "executionInfo": {
     "elapsed": 254,
     "status": "ok",
     "timestamp": 1738145275173,
     "user": {
      "displayName": "ちいた",
      "userId": "18348193065885775618"
     },
     "user_tz": -540
    },
    "id": "TElDgSRFAswc"
   },
   "outputs": [],
   "source": [
    "import numpy as np\n",
    "\n",
    "\n",
    "x_test=x_test.reshape(10000,784)\n",
    "\n",
    "#print(x_train[1,num[1]])\n",
    "#print(len(x_train[1,num[1]]))\n",
    "\n",
    "q= np.zeros((10000,b))\n",
    "\n",
    "for i in range(10000):\n",
    "    q[i] = x_test[i,num[1]]\n",
    "len(q)\n",
    "x_test = q\n",
    "y_test=to_categorical(y_test,num_classes=10)"
   ]
  },
  {
   "cell_type": "code",
   "execution_count": 5,
   "metadata": {
    "executionInfo": {
     "elapsed": 248,
     "status": "ok",
     "timestamp": 1738145277612,
     "user": {
      "displayName": "ちいた",
      "userId": "18348193065885775618"
     },
     "user_tz": -540
    },
    "id": "ldQnthsNBn8W"
   },
   "outputs": [],
   "source": [
    "import tensorflow\n",
    "from tensorflow.keras.models import Sequential\n",
    "from tensorflow.keras.layers import Dense, Input # Inputレイヤーをインポート\n",
    "\n",
    "tensorflow.random.set_seed(seed=1)#乱数の固定\n",
    "#モデルの定義\n",
    "model=Sequential()\n",
    "model.add(Input(shape=(b,))) \n",
    "model.add(Dense(units=16, activation=\"sigmoid\"))\n",
    "model.add(Dense(units=10,activation=\"softmax\"))\n",
    "\n",
    "model.compile(\n",
    "    loss=\"categorical_crossentropy\",optimizer=\"adam\",metrics=[\"accuracy\"],\n",
    ")"
   ]
  },
  {
   "cell_type": "code",
   "execution_count": 7,
   "metadata": {
    "colab": {
     "base_uri": "https://localhost:8080/"
    },
    "executionInfo": {
     "elapsed": 7998,
     "status": "ok",
     "timestamp": 1738145287779,
     "user": {
      "displayName": "ちいた",
      "userId": "18348193065885775618"
     },
     "user_tz": -540
    },
    "id": "dR_sYUoeBrA8",
    "outputId": "9e93b589-8a3a-485a-ee8e-fdfd3fff3606"
   },
   "outputs": [
    {
     "name": "stdout",
     "output_type": "stream",
     "text": [
      "Epoch 1/10\n",
      "\u001b[1m60/60\u001b[0m \u001b[32m━━━━━━━━━━━━━━━━━━━━\u001b[0m\u001b[37m\u001b[0m \u001b[1m1s\u001b[0m 5ms/step - accuracy: 0.3658 - loss: 1.8812 - val_accuracy: 0.5724 - val_loss: 1.5498\n",
      "Epoch 2/10\n",
      "\u001b[1m60/60\u001b[0m \u001b[32m━━━━━━━━━━━━━━━━━━━━\u001b[0m\u001b[37m\u001b[0m \u001b[1m0s\u001b[0m 2ms/step - accuracy: 0.6597 - loss: 1.4085 - val_accuracy: 0.7321 - val_loss: 1.2642\n",
      "Epoch 3/10\n",
      "\u001b[1m60/60\u001b[0m \u001b[32m━━━━━━━━━━━━━━━━━━━━\u001b[0m\u001b[37m\u001b[0m \u001b[1m0s\u001b[0m 2ms/step - accuracy: 0.7467 - loss: 1.1800 - val_accuracy: 0.7815 - val_loss: 1.0731\n",
      "Epoch 4/10\n",
      "\u001b[1m60/60\u001b[0m \u001b[32m━━━━━━━━━━━━━━━━━━━━\u001b[0m\u001b[37m\u001b[0m \u001b[1m0s\u001b[0m 3ms/step - accuracy: 0.7904 - loss: 1.0016 - val_accuracy: 0.8156 - val_loss: 0.9167\n",
      "Epoch 5/10\n",
      "\u001b[1m60/60\u001b[0m \u001b[32m━━━━━━━━━━━━━━━━━━━━\u001b[0m\u001b[37m\u001b[0m \u001b[1m0s\u001b[0m 2ms/step - accuracy: 0.8175 - loss: 0.8696 - val_accuracy: 0.8265 - val_loss: 0.8060\n",
      "Epoch 6/10\n",
      "\u001b[1m60/60\u001b[0m \u001b[32m━━━━━━━━━━━━━━━━━━━━\u001b[0m\u001b[37m\u001b[0m \u001b[1m0s\u001b[0m 2ms/step - accuracy: 0.8330 - loss: 0.7697 - val_accuracy: 0.8503 - val_loss: 0.7133\n",
      "Epoch 7/10\n",
      "\u001b[1m60/60\u001b[0m \u001b[32m━━━━━━━━━━━━━━━━━━━━\u001b[0m\u001b[37m\u001b[0m \u001b[1m0s\u001b[0m 3ms/step - accuracy: 0.8503 - loss: 0.6922 - val_accuracy: 0.8578 - val_loss: 0.6531\n",
      "Epoch 8/10\n",
      "\u001b[1m60/60\u001b[0m \u001b[32m━━━━━━━━━━━━━━━━━━━━\u001b[0m\u001b[37m\u001b[0m \u001b[1m0s\u001b[0m 3ms/step - accuracy: 0.8567 - loss: 0.6349 - val_accuracy: 0.8671 - val_loss: 0.6007\n",
      "Epoch 9/10\n",
      "\u001b[1m60/60\u001b[0m \u001b[32m━━━━━━━━━━━━━━━━━━━━\u001b[0m\u001b[37m\u001b[0m \u001b[1m0s\u001b[0m 3ms/step - accuracy: 0.8637 - loss: 0.5880 - val_accuracy: 0.8734 - val_loss: 0.5566\n",
      "Epoch 10/10\n",
      "\u001b[1m60/60\u001b[0m \u001b[32m━━━━━━━━━━━━━━━━━━━━\u001b[0m\u001b[37m\u001b[0m \u001b[1m0s\u001b[0m 2ms/step - accuracy: 0.8687 - loss: 0.5481 - val_accuracy: 0.8754 - val_loss: 0.5265\n",
      "Test loss: 0.5265\n",
      "Test accuracy:0.8754\n",
      "Calculation time:3.06 sec\n"
     ]
    }
   ],
   "source": [
    "import time\n",
    "#学習開始\n",
    "start_time=time.time()\n",
    "history=model.fit(\n",
    "    x_train,y_train,batch_size=1000,epochs=10,verbose=1,\n",
    "    validation_data=(x_test,y_test),\n",
    ")\n",
    "score=model.evaluate(x_test,y_test,verbose=0)\n",
    "calculation_time=time.time()-start_time\n",
    "#結果表示\n",
    "print(f\"Test loss: {score[0]:.4f}\") #モデルの予測と実際のラベルとの誤差\n",
    "print(f\"Test accuracy:{score[1]:.4f}\") #モデルの最終的な正解率\n",
    "print(f\"Calculation time:{calculation_time:.2f} sec\")"
   ]
  }
 ],
 "metadata": {
  "colab": {
   "authorship_tag": "ABX9TyMdbB4h1bSTGTRsHxr4efWx",
   "provenance": []
  },
  "kernelspec": {
   "display_name": "Python 3 (ipykernel)",
   "language": "python",
   "name": "python3"
  },
  "language_info": {
   "codemirror_mode": {
    "name": "ipython",
    "version": 3
   },
   "file_extension": ".py",
   "mimetype": "text/x-python",
   "name": "python",
   "nbconvert_exporter": "python",
   "pygments_lexer": "ipython3",
   "version": "3.12.3"
  }
 },
 "nbformat": 4,
 "nbformat_minor": 4
}
