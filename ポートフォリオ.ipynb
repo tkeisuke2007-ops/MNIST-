{
 "cells": [
  {
   "cell_type": "markdown",
   "metadata": {
    "id": "DDzxXwDH_YUx"
   },
   "source": []
  },
  {
   "cell_type": "code",
   "execution_count": null,
   "metadata": {},
   "outputs": [],
   "source": [
    "MNIST手書き数字データセットの特徴量選択"
   ]
  },
  {
   "cell_type": "code",
   "execution_count": 2,
   "metadata": {
    "executionInfo": {
     "elapsed": 970,
     "status": "ok",
     "timestamp": 1738145273057,
     "user": {
      "displayName": "ちいた",
      "userId": "18348193065885775618"
     },
     "user_tz": -540
    },
    "id": "Nu3PgRfh-pkN"
   },
   "outputs": [],
   "source": [
    "import numpy as np\n",
    "from tensorflow.keras.datasets import mnist\n",
    "from tensorflow.keras.utils import to_categorical\n",
    "(x_train, y_train), (x_test, y_test) = mnist.load_data()\n",
    "sum_train = np.sum(x_train, axis=0).reshape(1,784)\n",
    "avrage_train = sum_train/60000\n",
    "num = np.where((avrage_train>3))\n",
    "avrage_train2 = avrage_train[0,num[1]]\n",
    "b=len(avrage_train2)\n",
    "x_train=x_train.reshape(60000,784)\n",
    "\n",
    "#print(x_train[1,num[1]])\n",
    "#print(len(x_train[1,num[1]]))\n",
    "\n",
    "z = np.zeros((60000,b))\n",
    "\n",
    "for i in range(60000):\n",
    "    z[i] = x_train[i,num[1]]\n",
    "len(z)\n",
    "x_train = z\n",
    "y_train=to_categorical(y_train,num_classes=10)\n",
    "\n"
   ]
  },
  {
   "cell_type": "code",
   "execution_count": 3,
   "metadata": {
    "executionInfo": {
     "elapsed": 254,
     "status": "ok",
     "timestamp": 1738145275173,
     "user": {
      "displayName": "ちいた",
      "userId": "18348193065885775618"
     },
     "user_tz": -540
    },
    "id": "TElDgSRFAswc"
   },
   "outputs": [],
   "source": [
    "import numpy as np\n",
    "\n",
    "\n",
    "x_test=x_test.reshape(10000,784)\n",
    "\n",
    "#print(x_train[1,num[1]])\n",
    "#print(len(x_train[1,num[1]]))\n",
    "\n",
    "q= np.zeros((10000,b))\n",
    "\n",
    "for i in range(10000):\n",
    "    q[i] = x_test[i,num[1]]\n",
    "len(q)\n",
    "x_test = q\n",
    "y_test=to_categorical(y_test,num_classes=10)"
   ]
  },
  {
   "cell_type": "code",
   "execution_count": 4,
   "metadata": {
    "executionInfo": {
     "elapsed": 248,
     "status": "ok",
     "timestamp": 1738145277612,
     "user": {
      "displayName": "ちいた",
      "userId": "18348193065885775618"
     },
     "user_tz": -540
    },
    "id": "ldQnthsNBn8W"
   },
   "outputs": [
    {
     "name": "stderr",
     "output_type": "stream",
     "text": [
      "C:\\Users\\REIKA\\anaconda3\\Lib\\site-packages\\keras\\src\\layers\\core\\dense.py:92: UserWarning: Do not pass an `input_shape`/`input_dim` argument to a layer. When using Sequential models, prefer using an `Input(shape)` object as the first layer in the model instead.\n",
      "  super().__init__(activity_regularizer=activity_regularizer, **kwargs)\n"
     ]
    }
   ],
   "source": [
    "import tensorflow\n",
    "from tensorflow.keras.models import Sequential\n",
    "from tensorflow.keras.layers import Dense\n",
    "\n",
    "tensorflow.random.set_seed(seed=1)#乱数の固定\n",
    "#モデルの定義\n",
    "model=Sequential()\n",
    "model.add(Dense(units=16,input_dim=b,activation=\"sigmoid\"))\n",
    "model.add(Dense(units=10,activation=\"softmax\"))\n",
    "\n",
    "model.compile(\n",
    "    loss=\"categorical_crossentropy\",optimizer=\"adam\",metrics=[\"accuracy\"],\n",
    ")"
   ]
  },
  {
   "cell_type": "code",
   "execution_count": 5,
   "metadata": {
    "colab": {
     "base_uri": "https://localhost:8080/"
    },
    "executionInfo": {
     "elapsed": 7998,
     "status": "ok",
     "timestamp": 1738145287779,
     "user": {
      "displayName": "ちいた",
      "userId": "18348193065885775618"
     },
     "user_tz": -540
    },
    "id": "dR_sYUoeBrA8",
    "outputId": "9e93b589-8a3a-485a-ee8e-fdfd3fff3606"
   },
   "outputs": [
    {
     "name": "stdout",
     "output_type": "stream",
     "text": [
      "Epoch 1/10\n",
      "\u001b[1m60/60\u001b[0m \u001b[32m━━━━━━━━━━━━━━━━━━━━\u001b[0m\u001b[37m\u001b[0m \u001b[1m1s\u001b[0m 6ms/step - accuracy: 0.3636 - loss: 2.0129 - val_accuracy: 0.5638 - val_loss: 1.6398\n",
      "Epoch 2/10\n",
      "\u001b[1m60/60\u001b[0m \u001b[32m━━━━━━━━━━━━━━━━━━━━\u001b[0m\u001b[37m\u001b[0m \u001b[1m0s\u001b[0m 3ms/step - accuracy: 0.6528 - loss: 1.4716 - val_accuracy: 0.7112 - val_loss: 1.3190\n",
      "Epoch 3/10\n",
      "\u001b[1m60/60\u001b[0m \u001b[32m━━━━━━━━━━━━━━━━━━━━\u001b[0m\u001b[37m\u001b[0m \u001b[1m0s\u001b[0m 3ms/step - accuracy: 0.7435 - loss: 1.2195 - val_accuracy: 0.7695 - val_loss: 1.1115\n",
      "Epoch 4/10\n",
      "\u001b[1m60/60\u001b[0m \u001b[32m━━━━━━━━━━━━━━━━━━━━\u001b[0m\u001b[37m\u001b[0m \u001b[1m0s\u001b[0m 3ms/step - accuracy: 0.7917 - loss: 1.0352 - val_accuracy: 0.8116 - val_loss: 0.9576\n",
      "Epoch 5/10\n",
      "\u001b[1m60/60\u001b[0m \u001b[32m━━━━━━━━━━━━━━━━━━━━\u001b[0m\u001b[37m\u001b[0m \u001b[1m0s\u001b[0m 3ms/step - accuracy: 0.8198 - loss: 0.9022 - val_accuracy: 0.8451 - val_loss: 0.8361\n",
      "Epoch 6/10\n",
      "\u001b[1m60/60\u001b[0m \u001b[32m━━━━━━━━━━━━━━━━━━━━\u001b[0m\u001b[37m\u001b[0m \u001b[1m0s\u001b[0m 3ms/step - accuracy: 0.8403 - loss: 0.7976 - val_accuracy: 0.8498 - val_loss: 0.7465\n",
      "Epoch 7/10\n",
      "\u001b[1m60/60\u001b[0m \u001b[32m━━━━━━━━━━━━━━━━━━━━\u001b[0m\u001b[37m\u001b[0m \u001b[1m0s\u001b[0m 4ms/step - accuracy: 0.8510 - loss: 0.7141 - val_accuracy: 0.8634 - val_loss: 0.6678\n",
      "Epoch 8/10\n",
      "\u001b[1m60/60\u001b[0m \u001b[32m━━━━━━━━━━━━━━━━━━━━\u001b[0m\u001b[37m\u001b[0m \u001b[1m0s\u001b[0m 3ms/step - accuracy: 0.8594 - loss: 0.6481 - val_accuracy: 0.8708 - val_loss: 0.6125\n",
      "Epoch 9/10\n",
      "\u001b[1m60/60\u001b[0m \u001b[32m━━━━━━━━━━━━━━━━━━━━\u001b[0m\u001b[37m\u001b[0m \u001b[1m0s\u001b[0m 3ms/step - accuracy: 0.8665 - loss: 0.5989 - val_accuracy: 0.8722 - val_loss: 0.5637\n",
      "Epoch 10/10\n",
      "\u001b[1m60/60\u001b[0m \u001b[32m━━━━━━━━━━━━━━━━━━━━\u001b[0m\u001b[37m\u001b[0m \u001b[1m0s\u001b[0m 4ms/step - accuracy: 0.8738 - loss: 0.5569 - val_accuracy: 0.8732 - val_loss: 0.5446\n",
      "Test loss: 0.5446\n",
      "Test accuracy:0.8732\n",
      "Calculation time:3.64 sec\n"
     ]
    }
   ],
   "source": [
    "import time\n",
    "#学習開始\n",
    "start_time=time.time()\n",
    "history=model.fit(\n",
    "    x_train,y_train,batch_size=1000,epochs=10,verbose=1,\n",
    "    validation_data=(x_test,y_test),\n",
    ")\n",
    "score=model.evaluate(x_test,y_test,verbose=0)\n",
    "calculation_time=time.time()-start_time\n",
    "#結果表示\n",
    "print(f\"Test loss: {score[0]:.4f}\") #モデルの予測と実際のラベルとの誤差\n",
    "print(f\"Test accuracy:{score[1]:.4f}\") #モデルの最終的な正解率\n",
    "print(f\"Calculation time:{calculation_time:.2f} sec\")"
   ]
  },
  {
   "cell_type": "code",
   "execution_count": null,
   "metadata": {},
   "outputs": [],
   "source": []
  }
 ],
 "metadata": {
  "colab": {
   "authorship_tag": "ABX9TyMdbB4h1bSTGTRsHxr4efWx",
   "provenance": []
  },
  "kernelspec": {
   "display_name": "Python 3 (ipykernel)",
   "language": "python",
   "name": "python3"
  },
  "language_info": {
   "codemirror_mode": {
    "name": "ipython",
    "version": 3
   },
   "file_extension": ".py",
   "mimetype": "text/x-python",
   "name": "python",
   "nbconvert_exporter": "python",
   "pygments_lexer": "ipython3",
   "version": "3.12.3"
  }
 },
 "nbformat": 4,
 "nbformat_minor": 4
}
